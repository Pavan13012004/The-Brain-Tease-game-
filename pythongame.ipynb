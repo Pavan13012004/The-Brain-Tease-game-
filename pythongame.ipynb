{
  "nbformat": 4,
  "nbformat_minor": 0,
  "metadata": {
    "colab": {
      "provenance": []
    },
    "kernelspec": {
      "name": "python3",
      "display_name": "Python 3"
    },
    "language_info": {
      "name": "python"
    }
  },
  "cells": [
    {
      "cell_type": "code",
      "execution_count": null,
      "metadata": {
        "colab": {
          "base_uri": "https://localhost:8080/"
        },
        "id": "1BU4kmdYGV5L",
        "outputId": "60cabba2-21d8-4ec3-89a4-1d764f987a6d"
      },
      "outputs": [
        {
          "output_type": "stream",
          "name": "stdout",
          "text": [
            "and any arm arc age ago aid all ask ate art aim add act ash also able area aunt acid army aged away acre axle apex amen amokapple aside avoid argue amaze actor alarm asset adapt adult alarm alignAcross Ascent Atomic Anchor Artist Animal Accent  Anoint Attire AuthorBanish Banner Battle Border Bronze Bucket Buffer  Banana Bumble Backup Blouse Breach BetrayCandle Camera   Castle Chisel Credit Cactus Canyon   Cougar Cherry Comply Collar CustomsOrange Opaque Oboist Ocelot Offset Onyxes Oregano Oracle Opiate Outlaw Outlet OuncesMaple Magic Music Mirth Mould Mocha Mucus Match Molar Manor Muted Miner Model Mange MistyGrape Ghost Glint  d Gully Gland Grunt Grief Grail Grown \n",
            "Welcome to Hangman!\n",
            "Word: _ _ _ _ _ _ \n",
            "Attempts left: 6\n"
          ]
        }
      ],
      "source": [
        "\n",
        "\n",
        "import random\n",
        "\n",
        "def hangman():\n",
        "    words = [\"apple\", \"banana\", \"Candle\", \"orange\", \"grape\", \"melon\"]\n",
        "    print(\"and any arm arc age ago aid all ask ate art aim add act ash \"\n",
        "    \"also able area aunt acid army aged away acre axle apex amen amok\"\n",
        "    \"apple aside avoid argue amaze actor alarm asset adapt adult alarm align\"\n",
        "    \"Across Ascent Atomic Anchor Artist Animal Accent  Anoint Attire Author\"\n",
        "    \"Banish Banner Battle Border Bronze Bucket Buffer  Banana Bumble Backup Blouse Breach Betray\"\n",
        "    \"Candle Camera   Castle Chisel Credit Cactus Canyon   Cougar Cherry Comply Collar Customs\"\n",
        "    \"Orange Opaque Oboist Ocelot Offset Onyxes Oregano Oracle Opiate Outlaw Outlet Ounces\"\n",
        "    \"Maple Magic Music Mirth Mould Mocha Mucus Match Molar Manor Muted Miner Model Mange Misty\"\n",
        "    \"Grape Ghost Glint  d Gully Gland Grunt Grief Grail Grown \")\n",
        "    word = random.choice(words)\n",
        "    guessed_letters = []\n",
        "    attempts = 6\n",
        "\n",
        "    print(\"Welcome to Hangman!\")\n",
        "\n",
        "    while attempts > 0:\n",
        "        display_word = \"\"\n",
        "        for letter in word:\n",
        "            if letter in guessed_letters:\n",
        "                display_word += letter + \" \"\n",
        "            else:\n",
        "                display_word += \"_ \"\n",
        "\n",
        "        print(f\"Word: {display_word}\")\n",
        "        print(f\"Attempts left: {attempts}\")\n",
        "\n",
        "        if all(letter in guessed_letters for letter in word):\n",
        "            print(f\"Congratulations! You guessed the word '{word}' correctly!\")\n",
        "            break\n",
        "\n",
        "        guess = input(\"Guess a letter: \").lower()\n",
        "\n",
        "        if guess in guessed_letters:\n",
        "            print(\"You've already guessed that letter!\")\n",
        "            continue\n",
        "\n",
        "        guessed_letters.append(guess)\n",
        "\n",
        "        if guess not in word:\n",
        "            print(\"Incorrect guess!\")\n",
        "            attempts -= 1\n",
        "\n",
        "    if attempts == 0 and not all(letter in guessed_letters for letter in word):\n",
        "        print(f\"Game over! The word was '{word}'.\")\n",
        "\n",
        "if __name__ == \"__main__\":\n",
        "    hangman()\n"
      ]
    },
    {
      "cell_type": "code",
      "source": [],
      "metadata": {
        "id": "ZzjB1VGeGZcf"
      },
      "execution_count": null,
      "outputs": []
    }
  ]
}